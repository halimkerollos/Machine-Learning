{
 "cells": [
  {
   "cell_type": "code",
   "execution_count": 23,
   "id": "complete-optimization",
   "metadata": {},
   "outputs": [],
   "source": [
    "from chatterbot import ChatBot\n",
    "from chatterbot.trainers import ListTrainer"
   ]
  },
  {
   "cell_type": "code",
   "execution_count": 24,
   "id": "confidential-dodge",
   "metadata": {},
   "outputs": [
    {
     "name": "stderr",
     "output_type": "stream",
     "text": [
      "[nltk_data] Downloading package stopwords to /home/khalim/nltk_data...\n",
      "[nltk_data]   Package stopwords is already up-to-date!\n",
      "[nltk_data] Downloading package averaged_perceptron_tagger to\n",
      "[nltk_data]     /home/khalim/nltk_data...\n",
      "[nltk_data]   Package averaged_perceptron_tagger is already up-to-\n",
      "[nltk_data]       date!\n"
     ]
    }
   ],
   "source": [
    "bot = ChatBot('Lex')"
   ]
  },
  {
   "cell_type": "code",
   "execution_count": 25,
   "id": "previous-cornell",
   "metadata": {},
   "outputs": [
    {
     "name": "stderr",
     "output_type": "stream",
     "text": [
      "[nltk_data] Downloading package stopwords to /home/khalim/nltk_data...\n",
      "[nltk_data]   Package stopwords is already up-to-date!\n",
      "[nltk_data] Downloading package averaged_perceptron_tagger to\n",
      "[nltk_data]     /home/khalim/nltk_data...\n",
      "[nltk_data]   Package averaged_perceptron_tagger is already up-to-\n",
      "[nltk_data]       date!\n"
     ]
    }
   ],
   "source": [
    "bot = ChatBot('Lex',\n",
    "             storage_adapter='chatterbot.storage.SQLStorageAdapter',\n",
    "             database_url='sqlite:///database.sqlite3'\n",
    "             )"
   ]
  },
  {
   "cell_type": "code",
   "execution_count": 26,
   "id": "negative-slovakia",
   "metadata": {},
   "outputs": [
    {
     "name": "stderr",
     "output_type": "stream",
     "text": [
      "[nltk_data] Downloading package stopwords to /home/khalim/nltk_data...\n",
      "[nltk_data]   Package stopwords is already up-to-date!\n",
      "[nltk_data] Downloading package averaged_perceptron_tagger to\n",
      "[nltk_data]     /home/khalim/nltk_data...\n",
      "[nltk_data]   Package averaged_perceptron_tagger is already up-to-\n",
      "[nltk_data]       date!\n"
     ]
    }
   ],
   "source": [
    "bot = ChatBot('Lex',\n",
    "             logic_adapters=[\n",
    "                 'chatterbot.logic.BestMatch',\n",
    "                 'chatterbot.logic.TimeLogicAdapter'\n",
    "             ])"
   ]
  },
  {
   "cell_type": "code",
   "execution_count": 27,
   "id": "derived-republic",
   "metadata": {},
   "outputs": [],
   "source": [
    "trainer = ListTrainer(bot)"
   ]
  },
  {
   "cell_type": "code",
   "execution_count": 28,
   "id": "bridal-irish",
   "metadata": {},
   "outputs": [
    {
     "name": "stdout",
     "output_type": "stream",
     "text": [
      "List Trainer: [####################] 100%\n"
     ]
    }
   ],
   "source": [
    "trainer.train([\n",
    "    'Hi',\n",
    "    'Hello',\n",
    "    'Did you check your pockets?',\n",
    "    'I lost my keys too',\n",
    "    'Where is the last place you remember seeing them?',\n",
    "    \"I can't find my keys either...\",\n",
    "    \"That's unfortunate, where do you think they could've gone?\",\n",
    "    'What exactly can I do about that?',\n",
    "    \"Try looking between the couch cusions.\",\n",
    "    \"I guess they're gone then\",\n",
    "    \"Thanks! You really made my day!\"\n",
    "])"
   ]
  },
  {
   "cell_type": "code",
   "execution_count": 33,
   "id": "fourth-dividend",
   "metadata": {},
   "outputs": [],
   "source": [
    "response = bot.get_response('I lost my keys')"
   ]
  },
  {
   "cell_type": "code",
   "execution_count": 34,
   "id": "accomplished-kitchen",
   "metadata": {},
   "outputs": [
    {
     "name": "stdout",
     "output_type": "stream",
     "text": [
      "Bot response:  Where is the last place you remember seeing them?\n"
     ]
    }
   ],
   "source": [
    "print(\"Bot response: \", response)"
   ]
  },
  {
   "cell_type": "code",
   "execution_count": null,
   "id": "criminal-albany",
   "metadata": {},
   "outputs": [
    {
     "name": "stdout",
     "output_type": "stream",
     "text": [
      "Enter your nameKero\n",
      "Welcome to the Unhelpful Bot Service Kero!, Let me know what I can do for you...so I can ignore it.\n",
      "Kero:I lost my keys\n",
      "Bot:  Where is the last place you remember seeing them?\n",
      "Kero:In my car\n",
      "Bot:  The current time is 01:36 PM\n",
      "Kero:ok\n",
      "Bot:  The current time is 01:36 PM\n",
      "Kero:and?\n",
      "Bot:  The current time is 01:36 PM\n",
      "Kero:You suck\n",
      "Bot:  Where do you live?\n",
      "Kero:Houston\n",
      "Bot:  The current time is 01:36 PM\n",
      "Kero:WHat time is it in Houston?\n",
      "Bot:  The current time is 01:36 PM\n",
      "Kero:Can you help me?\n",
      "Bot:  I sure will try! What can I help you with?\n",
      "Kero:I need help finding my keys\n",
      "Bot:  Did you check your pockets?I lost my keys\n",
      "Kero:I did\n",
      "Bot:  Try looking between the couch cusions.\n",
      "Kero:Thats a good idea!\n",
      "Bot:  Thanks! You really made my day!\n",
      "Kero:You mean that?\n",
      "Bot:  The current time is 01:37 PM\n"
     ]
    }
   ],
   "source": [
    "name=input('Enter your name')\n",
    "print(\"Welcome to the Unhelpful Bot Service {}!, Let me know what I can do for you...so I can ignore it.\".format(name))\n",
    "while True:\n",
    "    request=input(name+':')\n",
    "    if request=='Bye' or request=='bye':\n",
    "        print('Bot: Bye')\n",
    "        break\n",
    "    else:\n",
    "        response=bot.get_response(request)\n",
    "        print('Bot: ', response)"
   ]
  },
  {
   "cell_type": "code",
   "execution_count": null,
   "id": "fantastic-village",
   "metadata": {},
   "outputs": [],
   "source": []
  }
 ],
 "metadata": {
  "kernelspec": {
   "display_name": "Python 3",
   "language": "python",
   "name": "python3"
  },
  "language_info": {
   "codemirror_mode": {
    "name": "ipython",
    "version": 3
   },
   "file_extension": ".py",
   "mimetype": "text/x-python",
   "name": "python",
   "nbconvert_exporter": "python",
   "pygments_lexer": "ipython3",
   "version": "3.8.5"
  }
 },
 "nbformat": 4,
 "nbformat_minor": 5
}
